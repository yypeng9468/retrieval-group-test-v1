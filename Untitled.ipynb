{
 "cells": [
  {
   "cell_type": "code",
   "execution_count": 49,
   "metadata": {},
   "outputs": [
    {
     "name": "stdout",
     "output_type": "stream",
     "text": [
      "The top-5 recall percentage is 0.230000\n",
      "The precision percentage is 0.818000\n"
     ]
    }
   ],
   "source": [
    "res_re = []\n",
    "b = 0\n",
    "h = open(\"ars.json\",'r')\n",
    "\n",
    "for line in h.readlines():\n",
    "    dic = json.loads(line)\n",
    "    if not \"error\" in dic.keys():\n",
    "        b += 1\n",
    "        t = {\"url\": dic[\"url\"], \"true\":0, \"simialr_uri\":[]}\n",
    "        im_num = (dic[\"url\"].split(\".\")[-2]).split('/')[-1]\n",
    "        for result in dic[\"search_results\"][0][\"results\"]:\n",
    "            if ((result[\"id\"].split('/')[4]).split('__')[0]==\"eval\") and (im_num in (result[\"id\"].split('/'))[4].split('-')[0]):\n",
    "                t[\"simialr_uri\"].append(result[\"id\"])\n",
    "                t[\"true\"] += 1\n",
    "        res_re.append(t)\n",
    "h.close()\n",
    "\n",
    "r = 0\n",
    "for i in range(b):\n",
    "    if res_re[i][\"true\"]>=args.top_k:\n",
    "        r += 1\n",
    "recall = r/float(b-1)\n",
    "print (\"The top-5 recall percentage is %f\" % recall)\n",
    "\n",
    "\n",
    "import json\n",
    "a = 0\n",
    "k = args.top_k\n",
    "res_pr = []\n",
    "h = open(\"../txt/query.txt.retrieval.json\",'r')\n",
    "for line in h.readlines():\n",
    "    dic = json.loads(line)\n",
    "    if not \"error\" in dic.keys():\n",
    "        a += 1\n",
    "        t = {\"url\": dic[\"url\"], \"true\":0, \"simialr_uri\":[]}\n",
    "        im_num = (dic[\"url\"].split(\".\")[-2]).split('/')[-1]\n",
    "        for i,result in enumerate(dic[\"search_results\"][0][\"results\"]):\n",
    "            if i <= k and ((result[\"id\"].split('/')[4]).split('__')[0]==\"eval\") and (im_num in (result[\"id\"].split('/'))[4].split('-')[0]):\n",
    "                t[\"simialr_uri\"].append(result[\"id\"])\n",
    "                t[\"true\"] += 1\n",
    "        res_pr.append(t)\n",
    "\n",
    "p = 0\n",
    "for i in range(a):\n",
    "    p += res_pr[i][\"true\"]\n",
    "    \n",
    "precision = p/(float(a-1)*15)\n",
    "print (\"The precision percentage is %f\" % precision)"
   ]
  },
  {
   "cell_type": "code",
   "execution_count": 50,
   "metadata": {},
   "outputs": [],
   "source": [
    "aaa = 0\n",
    "for i in range(a):\n",
    "    if res[i][\"true\"] < 15:\n",
    "        aaa+=1"
   ]
  },
  {
   "cell_type": "code",
   "execution_count": null,
   "metadata": {},
   "outputs": [],
   "source": []
  }
 ],
 "metadata": {
  "kernelspec": {
   "display_name": "Python 2",
   "language": "python",
   "name": "python2"
  },
  "language_info": {
   "codemirror_mode": {
    "name": "ipython",
    "version": 2
   },
   "file_extension": ".py",
   "mimetype": "text/x-python",
   "name": "python",
   "nbconvert_exporter": "python",
   "pygments_lexer": "ipython2",
   "version": "2.7.15"
  }
 },
 "nbformat": 4,
 "nbformat_minor": 2
}
